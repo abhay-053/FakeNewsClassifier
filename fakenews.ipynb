{
 "cells": [
  {
   "cell_type": "code",
   "execution_count": 30,
   "metadata": {},
   "outputs": [
    {
     "name": "stderr",
     "output_type": "stream",
     "text": [
      "[nltk_data] Error loading pxunkt: Package 'pxunkt' not found in index\n",
      "[nltk_data] Downloading package stopwords to\n",
      "[nltk_data]     /Users/abhaydhek/nltk_data...\n",
      "[nltk_data]   Package stopwords is already up-to-date!\n",
      "[nltk_data] Downloading package wordnet to\n",
      "[nltk_data]     /Users/abhaydhek/nltk_data...\n",
      "[nltk_data]   Package wordnet is already up-to-date!\n"
     ]
    },
    {
     "data": {
      "text/plain": [
       "True"
      ]
     },
     "execution_count": 30,
     "metadata": {},
     "output_type": "execute_result"
    }
   ],
   "source": [
    "import nltk\n",
    "import pandas as pd\n",
    "import re\n",
    "from nltk.corpus import stopwords\n",
    "from nltk.stem.porter import PorterStemmer\n",
    "\n",
    "nltk.download('pxunkt')\n",
    "nltk.download('stopwords')\n",
    "nltk.download('wordnet')"
   ]
  },
  {
   "cell_type": "code",
   "execution_count": 31,
   "metadata": {},
   "outputs": [],
   "source": [
    "df=pd.read_csv(\"train.csv\")"
   ]
  },
  {
   "cell_type": "code",
   "execution_count": 32,
   "metadata": {},
   "outputs": [
    {
     "data": {
      "text/plain": [
       "Index(['id', 'title', 'author', 'text', 'label'], dtype='object')"
      ]
     },
     "execution_count": 32,
     "metadata": {},
     "output_type": "execute_result"
    }
   ],
   "source": [
    "df.columns"
   ]
  },
  {
   "cell_type": "code",
   "execution_count": 33,
   "metadata": {},
   "outputs": [],
   "source": [
    "df=df.drop(['id','title','author'], axis =1)"
   ]
  },
  {
   "cell_type": "code",
   "execution_count": 34,
   "metadata": {},
   "outputs": [],
   "source": [
    "df['text']=df['text'].astype(str)"
   ]
  },
  {
   "cell_type": "code",
   "execution_count": 35,
   "metadata": {},
   "outputs": [
    {
     "data": {
      "text/html": [
       "<div>\n",
       "<style scoped>\n",
       "    .dataframe tbody tr th:only-of-type {\n",
       "        vertical-align: middle;\n",
       "    }\n",
       "\n",
       "    .dataframe tbody tr th {\n",
       "        vertical-align: top;\n",
       "    }\n",
       "\n",
       "    .dataframe thead th {\n",
       "        text-align: right;\n",
       "    }\n",
       "</style>\n",
       "<table border=\"1\" class=\"dataframe\">\n",
       "  <thead>\n",
       "    <tr style=\"text-align: right;\">\n",
       "      <th></th>\n",
       "      <th>text</th>\n",
       "      <th>label</th>\n",
       "    </tr>\n",
       "  </thead>\n",
       "  <tbody>\n",
       "    <tr>\n",
       "      <th>0</th>\n",
       "      <td>House Dem Aide: We Didn’t Even See Comey’s Let...</td>\n",
       "      <td>1</td>\n",
       "    </tr>\n",
       "    <tr>\n",
       "      <th>1</th>\n",
       "      <td>Ever get the feeling your life circles the rou...</td>\n",
       "      <td>0</td>\n",
       "    </tr>\n",
       "    <tr>\n",
       "      <th>2</th>\n",
       "      <td>Why the Truth Might Get You Fired October 29, ...</td>\n",
       "      <td>1</td>\n",
       "    </tr>\n",
       "    <tr>\n",
       "      <th>3</th>\n",
       "      <td>Videos 15 Civilians Killed In Single US Airstr...</td>\n",
       "      <td>1</td>\n",
       "    </tr>\n",
       "    <tr>\n",
       "      <th>4</th>\n",
       "      <td>Print \\nAn Iranian woman has been sentenced to...</td>\n",
       "      <td>1</td>\n",
       "    </tr>\n",
       "    <tr>\n",
       "      <th>...</th>\n",
       "      <td>...</td>\n",
       "      <td>...</td>\n",
       "    </tr>\n",
       "    <tr>\n",
       "      <th>20795</th>\n",
       "      <td>Rapper T. I. unloaded on black celebrities who...</td>\n",
       "      <td>0</td>\n",
       "    </tr>\n",
       "    <tr>\n",
       "      <th>20796</th>\n",
       "      <td>When the Green Bay Packers lost to the Washing...</td>\n",
       "      <td>0</td>\n",
       "    </tr>\n",
       "    <tr>\n",
       "      <th>20797</th>\n",
       "      <td>The Macy’s of today grew from the union of sev...</td>\n",
       "      <td>0</td>\n",
       "    </tr>\n",
       "    <tr>\n",
       "      <th>20798</th>\n",
       "      <td>NATO, Russia To Hold Parallel Exercises In Bal...</td>\n",
       "      <td>1</td>\n",
       "    </tr>\n",
       "    <tr>\n",
       "      <th>20799</th>\n",
       "      <td>David Swanson is an author, activist, journa...</td>\n",
       "      <td>1</td>\n",
       "    </tr>\n",
       "  </tbody>\n",
       "</table>\n",
       "<p>20800 rows × 2 columns</p>\n",
       "</div>"
      ],
      "text/plain": [
       "                                                    text  label\n",
       "0      House Dem Aide: We Didn’t Even See Comey’s Let...      1\n",
       "1      Ever get the feeling your life circles the rou...      0\n",
       "2      Why the Truth Might Get You Fired October 29, ...      1\n",
       "3      Videos 15 Civilians Killed In Single US Airstr...      1\n",
       "4      Print \\nAn Iranian woman has been sentenced to...      1\n",
       "...                                                  ...    ...\n",
       "20795  Rapper T. I. unloaded on black celebrities who...      0\n",
       "20796  When the Green Bay Packers lost to the Washing...      0\n",
       "20797  The Macy’s of today grew from the union of sev...      0\n",
       "20798  NATO, Russia To Hold Parallel Exercises In Bal...      1\n",
       "20799    David Swanson is an author, activist, journa...      1\n",
       "\n",
       "[20800 rows x 2 columns]"
      ]
     },
     "execution_count": 35,
     "metadata": {},
     "output_type": "execute_result"
    }
   ],
   "source": [
    "df"
   ]
  },
  {
   "cell_type": "code",
   "execution_count": 36,
   "metadata": {},
   "outputs": [],
   "source": [
    "ps = PorterStemmer()\n",
    "\n",
    "def stemming(content):\n",
    "    content = re.sub('[^a-zA-Z]', ' ', content)\n",
    "    content = content.lower()\n",
    "    words = content.split()\n",
    "    stemmed_words = [ps.stem(word) for word in words if word not in stopwords.words('english')]\n",
    "    processed_content = ' '.join(stemmed_words)\n",
    "    return processed_content\n"
   ]
  },
  {
   "cell_type": "code",
   "execution_count": 37,
   "metadata": {},
   "outputs": [],
   "source": [
    "df['text']= df['text'].apply(stemming)"
   ]
  },
  {
   "cell_type": "code",
   "execution_count": null,
   "metadata": {},
   "outputs": [
    {
     "data": {
      "text/plain": [
       "0        hous dem aid even see comey letter jason chaff...\n",
       "1        ever get feel life circl roundabout rather hea...\n",
       "2        truth might get fire octob tension intellig an...\n",
       "3        video civilian kill singl us airstrik identifi...\n",
       "4        print iranian woman sentenc six year prison ir...\n",
       "                               ...                        \n",
       "20795    rapper unload black celebr met donald trump el...\n",
       "20796    green bay packer lost washington redskin week ...\n",
       "20797    maci today grew union sever great name america...\n",
       "20798    nato russia hold parallel exercis balkan press...\n",
       "20799    david swanson author activist journalist radio...\n",
       "Name: text, Length: 20800, dtype: object"
      ]
     },
     "execution_count": 10,
     "metadata": {},
     "output_type": "execute_result"
    }
   ],
   "source": [
    "df['text']"
   ]
  },
  {
   "cell_type": "code",
   "execution_count": null,
   "metadata": {},
   "outputs": [],
   "source": [
    "\n",
    "from sklearn.model_selection import train_test_split"
   ]
  },
  {
   "cell_type": "code",
   "execution_count": null,
   "metadata": {},
   "outputs": [],
   "source": [
    "X_train, X_test, y_train, y_test = train_test_split(df['text'], df['label'], test_size=0.2)"
   ]
  },
  {
   "cell_type": "code",
   "execution_count": null,
   "metadata": {},
   "outputs": [],
   "source": [
    "from sklearn.feature_extraction.text import TfidfVectorizer\n",
    "from sklearn.svm import LinearSVC\n",
    "from sklearn.linear_model import LogisticRegression, SGDClassifier\n",
    "from sklearn.naive_bayes import MultinomialNB\n",
    "from sklearn.tree import DecisionTreeClassifier\n",
    "from sklearn.ensemble import RandomForestClassifier\n",
    "from sklearn.metrics import accuracy_score, classification_report\n",
    "import matplotlib.pyplot as plt"
   ]
  },
  {
   "cell_type": "code",
   "execution_count": null,
   "metadata": {},
   "outputs": [],
   "source": [
    "classifiers = {\n",
    "    \"Linear SVC\": LinearSVC(),\n",
    "    \"Logistic Regression\": LogisticRegression(max_iter=1000),\n",
    "    \"SGD Classifier\": SGDClassifier(),\n",
    "    \"Naive Bayes\": MultinomialNB(),\n",
    "    \"Decision Tree\": DecisionTreeClassifier(),\n",
    "    \"Random Forest\": RandomForestClassifier()\n",
    "}"
   ]
  },
  {
   "cell_type": "code",
   "execution_count": null,
   "metadata": {},
   "outputs": [],
   "source": [
    "# Initialize TfidfVectorizer separately\n",
    "vectorizer = TfidfVectorizer()\n",
    "X_train_vec = vectorizer.fit_transform(X_train)\n",
    "X_test_vec = vectorizer.transform(X_test)"
   ]
  },
  {
   "cell_type": "code",
   "execution_count": null,
   "metadata": {},
   "outputs": [
    {
     "name": "stdout",
     "output_type": "stream",
     "text": [
      "Linear SVC Accuracy: 0.9572115384615385\n",
      "              precision    recall  f1-score   support\n",
      "\n",
      "           0       0.96      0.95      0.96      2044\n",
      "           1       0.96      0.96      0.96      2116\n",
      "\n",
      "    accuracy                           0.96      4160\n",
      "   macro avg       0.96      0.96      0.96      4160\n",
      "weighted avg       0.96      0.96      0.96      4160\n",
      "\n",
      "Logistic Regression Accuracy: 0.9420673076923077\n",
      "              precision    recall  f1-score   support\n",
      "\n",
      "           0       0.95      0.94      0.94      2044\n",
      "           1       0.94      0.95      0.94      2116\n",
      "\n",
      "    accuracy                           0.94      4160\n",
      "   macro avg       0.94      0.94      0.94      4160\n",
      "weighted avg       0.94      0.94      0.94      4160\n",
      "\n",
      "SGD Classifier Accuracy: 0.9514423076923076\n",
      "              precision    recall  f1-score   support\n",
      "\n",
      "           0       0.95      0.95      0.95      2044\n",
      "           1       0.95      0.96      0.95      2116\n",
      "\n",
      "    accuracy                           0.95      4160\n",
      "   macro avg       0.95      0.95      0.95      4160\n",
      "weighted avg       0.95      0.95      0.95      4160\n",
      "\n",
      "Naive Bayes Accuracy: 0.8588942307692308\n",
      "              precision    recall  f1-score   support\n",
      "\n",
      "           0       0.78      0.98      0.87      2044\n",
      "           1       0.98      0.74      0.84      2116\n",
      "\n",
      "    accuracy                           0.86      4160\n",
      "   macro avg       0.88      0.86      0.86      4160\n",
      "weighted avg       0.88      0.86      0.86      4160\n",
      "\n",
      "Decision Tree Accuracy: 0.8850961538461538\n",
      "              precision    recall  f1-score   support\n",
      "\n",
      "           0       0.88      0.89      0.88      2044\n",
      "           1       0.89      0.88      0.89      2116\n",
      "\n",
      "    accuracy                           0.89      4160\n",
      "   macro avg       0.89      0.89      0.89      4160\n",
      "weighted avg       0.89      0.89      0.89      4160\n",
      "\n",
      "Random Forest Accuracy: 0.9052884615384615\n",
      "              precision    recall  f1-score   support\n",
      "\n",
      "           0       0.88      0.94      0.91      2044\n",
      "           1       0.94      0.87      0.90      2116\n",
      "\n",
      "    accuracy                           0.91      4160\n",
      "   macro avg       0.91      0.91      0.91      4160\n",
      "weighted avg       0.91      0.91      0.91      4160\n",
      "\n"
     ]
    }
   ],
   "source": [
    "# Train and evaluate classifiers\n",
    "best_model = None\n",
    "best_model_name = \"\"\n",
    "best_accuracy = 0\n",
    "results = {}\n",
    "\n",
    "for name, clf in classifiers.items():\n",
    "    clf.fit(X_train_vec, y_train)\n",
    "    predictions = clf.predict(X_test_vec)\n",
    "    accuracy = accuracy_score(y_test, predictions)\n",
    "    results[name] = accuracy\n",
    "    print(f\"{name} Accuracy: {accuracy}\")\n",
    "    print(classification_report(y_test, predictions))\n",
    "    \n",
    "    # Save the best model\n",
    "    if accuracy > best_accuracy:\n",
    "        best_accuracy = accuracy\n",
    "        best_model = clf\n",
    "        best_model_name = name\n",
    "\n",
    "# Extract the vectorizer from the best model\n",
    "best_vectorizer = vectorizer"
   ]
  },
  {
   "cell_type": "code",
   "execution_count": null,
   "metadata": {},
   "outputs": [
    {
     "data": {
      "image/png": "[encoded data removed]",
      "text/plain": [
       "<Figure size 1400x800 with 1 Axes>"
      ]
     },
     "metadata": {},
     "output_type": "display_data"
    }
   ],
   "source": [
    "import matplotlib.pyplot as plt\n",
    "\n",
    "# Data\n",
    "results = {\n",
    "    'Linear SVC': 0.9574519230769231,\n",
    "    'Logistic Regression': 0.9442307692307692,\n",
    "    'SGD Classifier': 0.9538461538461539,\n",
    "    'Naive Bayes': 0.878125,\n",
    "    'Decision Tree': 0.88125,\n",
    "    'Random Forest': 0.9165865384615385\n",
    "}\n",
    "\n",
    "plt.figure(figsize=(14, 8))\n",
    "bars = plt.bar(results.keys(), results.values(), color='steelblue', edgecolor='black')\n",
    "plt.xlabel('Classifier', fontsize=14)\n",
    "plt.ylabel('Accuracy', fontsize=14)\n",
    "plt.title('Comparison of Classifier Accuracies', fontsize=16)\n",
    "plt.xticks(rotation=45, fontsize=12)\n",
    "plt.yticks(fontsize=12)\n",
    "plt.grid(axis='y', linestyle='--', alpha=0.7)\n",
    "\n",
    "# Add value labels on top of the bars\n",
    "for bar in bars:\n",
    "    yval = bar.get_height()\n",
    "    plt.text(bar.get_x() + bar.get_width()/2, yval + 0.01, round(yval, 4), ha='center', fontsize=12, color='black')\n",
    "\n",
    "plt.tight_layout()\n",
    "plt.show()\n"
   ]
  },
  {
   "cell_type": "code",
   "execution_count": null,
   "metadata": {},
   "outputs": [],
   "source": [
    "import pickle"
   ]
  },
  {
   "cell_type": "code",
   "execution_count": null,
   "metadata": {},
   "outputs": [],
   "source": [
    "with open('best_model.pkl', 'wb') as file:\n",
    "    pickle.dump(best_model, file)"
   ]
  },
  {
   "cell_type": "code",
   "execution_count": null,
   "metadata": {},
   "outputs": [],
   "source": [
    "\n",
    "with open('vectorizer.pkl', 'wb') as file:\n",
    "    pickle.dump(vectorizer, file)"
   ]
  },
  {
   "cell_type": "code",
   "execution_count": null,
   "metadata": {},
   "outputs": [],
   "source": [
    "vector_form=pickle.load(open('vectorizer.pkl', 'rb'))"
   ]
  },
  {
   "cell_type": "code",
   "execution_count": null,
   "metadata": {},
   "outputs": [],
   "source": [
    "load_model=pickle.load(open('best_model.pkl', 'rb'))"
   ]
  },
  {
   "cell_type": "code",
   "execution_count": null,
   "metadata": {},
   "outputs": [],
   "source": [
    "def fake_news(news):\n",
    "    news=stemming(news)\n",
    "    input_data=[news]\n",
    "    vector_form1=vector_form.transform(input_data)\n",
    "    prediction = load_model.predict(vector_form1)\n",
    "    return prediction"
   ]
  },
  {
   "cell_type": "code",
   "execution_count": null,
   "metadata": {},
   "outputs": [],
   "source": [
    "val=fake_news(\"\"\"The scandal engulfing Wells Fargo toppled its chairman and chief executive on Wednesday, as John G. Stumpf announced his departure from the company, effective immediately. The move was a swift and stunning fall for an executive whose bank made it through the 2008 financial crisis relatively unscathed, only to be undone by a   sales scandal that pervaded its community banking division and percolated under the surface for years. It was an extraordinary moment even in the banking industry, which has been bedeviled by criticism and regular scandals since the financial crisis. Despite the industry’s many troubles, relatively few banking chiefs have stepped down under outside pressure. But Wells Fargo’s transgressions were unusually blatant and straightforward, which contributed to the   public outcry. This time, there were no exotic financial instruments, complicated trades or complex mortgage trickery. The bank’s misdeeds were fundamentally simple: Under intense pressure to meet aggressive sales goals, employees created sham accounts using the names  —   and sometimes, the actual money  —   of the bank’s real customers. And in some cases the customers did not discover the activity until they started accumulating fees. The reaction to the fake accounts at Wells Fargo, and to Mr. Stumpf’s response to what has been uncovered as a widespread problem, has been withering and unrelenting. Wells Fargo has been under fire from irate customers, regulators, lawmakers and former employees since last month, when it disclosed that it would pay $185 million in fines and penalties over the unauthorized creation of as many as two million bank and credit card accounts over a period of at least five years by branch employees who were said to be under intense pressure to hit ambitious product sales goals. The sales practices may reach back far longer. Former bank employees told The New York Times of concerns they raised internally as far back as 11 years ago. Mr. Stumpf, 63, who was twice called in front of Congress to testify about the scandal in recent weeks, faced vocal demands to resign from an outraged public, but the timing of his departure was unexpected given that the Wells Fargo board had not completed its internal investigation into the phony accounts and that the bank reports   earnings on Friday. He potentially walks away with millions of dollars, including a $20 million pension, as of Wednesday, another $4. 3 million in deferred compensation, plus stock worth $109 million, according to data from Equilar. As the scandal erupted, Mr. Stumpf, who grew up on a dairy and poultry farm in Minnesota and had long emphasized his folksy roots, was unable to quell the uproar. Rather, he often seemed to inflame it. During his testimony in front of Congress, Mr. Stumpf said he took responsibility for the problems, but would not admit that there anything wrong with the bank’s broader culture. When pressed repeatedly by members of the Senate Banking Committee about why he had not given back any of his lavish compensation, Mr. Stumpf insisted that the decision was not up to him, but to the bank’s board. He was reminded that he was the board’s chairman. One senator on the banking committee noted that criticism of the Wells Fargo scandal was one of the few things that Democrats and Republicans had agreed on in a long time. Mr. Stumpf’s spent 34 years at a bank that had once been regarded as a darling on Wall Street because of its ability to churn out profits even as other banks struggled. Mr. Stumpf was named chief executive in 2007 and was one of the country’s   bankers, earning about $19 million last year. He was named the 2013 Banker of the Year by the trade publication American Banker. Wells Fargo was once the most valuable bank as measured by the price of its stock, which attracted the billionaire Warren E. Buffett as its largest shareholder. Mr. Buffett’s company, Berkshire Hathaway, has a stake of about 10 percent. Mr. Buffett did not respond to a request for comment on Wednesday. Wells Fargo has since ceded the most valuable bank distinction to JPMorgan Chase. The board received a letter from Mr. Stumpf early on Wednesday indicating that he intended to retire, according to a person briefed on the matter. This person said the board was still in the early stages of conducting its investigation into the fake accounts and Mr. Stumpf’s handling of the scandal and had not drawn any conclusions from its inquiry. The board was not scheduled to meet on Wednesday when it received Mr. Stumpf’s letter, which this person described as brief and lacking any indication as to why the longtime C. E. O. decided to leave now. Top bank executives were expecting that Mr. Stumpf would address analysts and investors  —   as he has always done  —   when Wells Fargo reports its   results on Friday. Wells Fargo said Mr. Stumpf would be replaced by Timothy J. Sloan, its president and chief operating officer. Just two days earlier, the San Francisco bank shuffled its top management to give more responsibility to Mr. Sloan. “I am grateful for the opportunity to have led Wells Fargo,” Mr. Stumpf said in a written statement. “While I have been deeply committed and focused on managing the company through this period, I have decided it is best for the company that I step aside. ” Mr. Sloan was informed early Wednesday that he was the bank’s new C. E. O. though he had known for several days that Mr. Stumpf was preparing to step down. In an interview, Mr. Sloan said Mr. Stumpf had told him of his decision to retire after concluding that he would most likely continue to be the focus of much of the criticism being leveled at the bank. “It was an incredibly selfless decision,” Mr. Sloan said. Federal regulators and the Los Angeles city attorney began looking into the issue in 2013. The deal Wells Fargo announced last month to settle cases brought by their offices was intended to resolve the matter, but it instead opened the floodgates, provoking a furious outpouring of questions, criticism and new information about what former employees say was a   culture of toxic sales pressure. The Department of Justice and Labor Department opened their own inquiries. Mr. Sloan said the bank had already named a new head of community banking, ended the retail banking sales goals that employees blamed for putting them under undue pressure and extended its review of its sales practices back to 2009. Originally, the bank’s review covered its activities only between 2011 and 2015. Mr. Sloan will not hold the dual of roles of chief executive and chairman as Mr. Stump had. Mr. Stumpf agreed last month to surrender stock grants valued at $41 million  —   another highly unusual move on Wall Street, where clawback provisions have been widely adopted but are almost never deployed. Mr. Stumpf said he would give up his $2. 8 million annual salary for the duration of the board’s investigation. Because his departure is a resignation, Mr. Stumpf will leave without any severance, according to Oscar Suris, a company spokesman. Senator Elizabeth Warren, the Massachusetts Democrat who blasted Mr. Stumpf when he appeared before the Senate last month, fired off a scathing statement on Wednesday. “As I said at the hearing last month, Mr. Stumpf should resign, return every nickel he made while this scam was going on, and face an investigation by the Justice Department and S. E. C. ,” she said. “So far, he’s one for three.\"\"\")"
   ]
  },
  {
   "cell_type": "code",
   "execution_count": null,
   "metadata": {},
   "outputs": [
    {
     "name": "stdout",
     "output_type": "stream",
     "text": [
      "reliable\n"
     ]
    }
   ],
   "source": [
    "if val==[0]:\n",
    "    print('reliable')\n",
    "else:\n",
    "    print('unreliable')"
   ]
  }
 ],
 "metadata": {
  "kernelspec": {
   "display_name": "Python 3",
   "language": "python",
   "name": "python3"
  },
  "language_info": {
   "codemirror_mode": {
    "name": "ipython",
    "version": 3
   },
   "file_extension": ".py",
   "mimetype": "text/x-python",
   "name": "python",
   "nbconvert_exporter": "python",
   "pygments_lexer": "ipython3",
   "version": "3.10.12"
  }
 },
 "nbformat": 4,
 "nbformat_minor": 2
}
